{
 "cells": [
  {
   "cell_type": "markdown",
   "metadata": {},
   "source": [
    "# Train software matching algorithm\n",
    "\n",
    "This is the follow-on from the previous notebook \"Train vendor matching algorithm\".\n",
    "\n",
    "The training proceeds in a similar manner:\n",
    "\n",
    "* First the algorithm is tuned for typical data by using a grid search.\n",
    "* Next the ML classifier is run on the training data using the optimum parameters.\n",
    "* Finally the trained model is stored for future use."
   ]
  },
  {
   "cell_type": "markdown",
   "metadata": {},
   "source": [
    "## Read in the software training data\n",
    "\n",
    "Read in the manually labelled software training data.\n",
    "\n",
    "Format it and convert to two numpy arrays for input to the scikit-learn ML algorithm."
   ]
  },
  {
   "cell_type": "code",
   "execution_count": 1,
   "metadata": {},
   "outputs": [
    {
     "data": {
      "text/plain": [
       "(22262, 18)"
      ]
     },
     "execution_count": 1,
     "metadata": {},
     "output_type": "execute_result"
    }
   ],
   "source": [
    "# Initialize\n",
    "\n",
    "import pandas as pd\n",
    "import numpy as np\n",
    "\n",
    "try:\n",
    "    df_label_software = pd.io.parsers.read_csv(\n",
    "                            \"/home/jovyan/work/vulnmine/vulnmine_data/label_software.csv\",\n",
    "                            error_bad_lines=False,\n",
    "                            warn_bad_lines=True,\n",
    "                            quotechar='\"',\n",
    "                            encoding='utf-8')\n",
    "except IOError as e:\n",
    "    print('\\n\\n***I/O error({0}): {1}\\n\\n'.format(\n",
    "                e.errno, e.strerror))\n",
    "\n",
    "# except ValueError:\n",
    "#    self.logger.critical('Could not convert data to an integer.')\n",
    "except:\n",
    "    print(\n",
    "        '\\n\\n***Unexpected error: {0}\\n\\n'.format(\n",
    "            sys.exc_info()[0]))\n",
    "    raise\n",
    "\n",
    "# Number of records / columns\n",
    "\n",
    "df_label_software.shape"
   ]
  },
  {
   "cell_type": "code",
   "execution_count": 2,
   "metadata": {},
   "outputs": [
    {
     "data": {
      "text/html": [
       "<div>\n",
       "<table border=\"1\" class=\"dataframe\">\n",
       "  <thead>\n",
       "    <tr style=\"text-align: right;\">\n",
       "      <th></th>\n",
       "      <th>Unnamed: 0</th>\n",
       "      <th>vendor_X</th>\n",
       "      <th>software_X</th>\n",
       "      <th>title_X</th>\n",
       "      <th>DisplayName0</th>\n",
       "      <th>release_X</th>\n",
       "      <th>Version0</th>\n",
       "      <th>fz_ratio</th>\n",
       "      <th>fz_ptl_ratio</th>\n",
       "      <th>fz_tok_set_ratio</th>\n",
       "      <th>fz_ptl_tok_sort_ratio</th>\n",
       "      <th>fz_uwratio</th>\n",
       "      <th>fz_rel_ratio</th>\n",
       "      <th>fz_rel_ptl_ratio</th>\n",
       "      <th>t_cve_name</th>\n",
       "      <th>titlX_len</th>\n",
       "      <th>DsplyNm0_len</th>\n",
       "      <th>match</th>\n",
       "    </tr>\n",
       "  </thead>\n",
       "  <tbody>\n",
       "    <tr>\n",
       "      <th>17683</th>\n",
       "      <td>18277</td>\n",
       "      <td>google</td>\n",
       "      <td>chrome</td>\n",
       "      <td>Google Chrome 29.0.1547.56</td>\n",
       "      <td>谷歌拼音输入法 3.0</td>\n",
       "      <td>29.0.1547.56</td>\n",
       "      <td>-</td>\n",
       "      <td>19</td>\n",
       "      <td>27</td>\n",
       "      <td>100</td>\n",
       "      <td>20</td>\n",
       "      <td>85</td>\n",
       "      <td>0</td>\n",
       "      <td>0</td>\n",
       "      <td>cpe:/a:google:chrome:29.0.1547.56</td>\n",
       "      <td>26</td>\n",
       "      <td>11</td>\n",
       "      <td>0</td>\n",
       "    </tr>\n",
       "    <tr>\n",
       "      <th>18200</th>\n",
       "      <td>18794</td>\n",
       "      <td>google</td>\n",
       "      <td>chrome</td>\n",
       "      <td>Google Chrome 34.0.1847.59</td>\n",
       "      <td>谷歌拼音输入法 3.0</td>\n",
       "      <td>34.0.1847.59</td>\n",
       "      <td>-</td>\n",
       "      <td>25</td>\n",
       "      <td>36</td>\n",
       "      <td>100</td>\n",
       "      <td>27</td>\n",
       "      <td>85</td>\n",
       "      <td>0</td>\n",
       "      <td>0</td>\n",
       "      <td>cpe:/a:google:chrome:34.0.1847.59</td>\n",
       "      <td>26</td>\n",
       "      <td>11</td>\n",
       "      <td>0</td>\n",
       "    </tr>\n",
       "    <tr>\n",
       "      <th>6549</th>\n",
       "      <td>6993</td>\n",
       "      <td>adobe</td>\n",
       "      <td>flash_player</td>\n",
       "      <td>Adobe Flash Player 11.2.202.258</td>\n",
       "      <td>Adobe Flash Media Server 4.5</td>\n",
       "      <td>11.2.202.258</td>\n",
       "      <td>-</td>\n",
       "      <td>55</td>\n",
       "      <td>54</td>\n",
       "      <td>100</td>\n",
       "      <td>51</td>\n",
       "      <td>51</td>\n",
       "      <td>0</td>\n",
       "      <td>0</td>\n",
       "      <td>cpe:/a:adobe:flash_player:11.2.202.258</td>\n",
       "      <td>31</td>\n",
       "      <td>28</td>\n",
       "      <td>0</td>\n",
       "    </tr>\n",
       "    <tr>\n",
       "      <th>13851</th>\n",
       "      <td>14445</td>\n",
       "      <td>adobe</td>\n",
       "      <td>color_common_settings</td>\n",
       "      <td>Adobe Color Common Settings 1.0.1</td>\n",
       "      <td>Neolane v6.0 6.1.0 Build 8192</td>\n",
       "      <td>1.0.1</td>\n",
       "      <td>-</td>\n",
       "      <td>31</td>\n",
       "      <td>31</td>\n",
       "      <td>100</td>\n",
       "      <td>39</td>\n",
       "      <td>37</td>\n",
       "      <td>0</td>\n",
       "      <td>0</td>\n",
       "      <td>cpe:/a:adobe:color_common_settings:1.0.1</td>\n",
       "      <td>33</td>\n",
       "      <td>29</td>\n",
       "      <td>0</td>\n",
       "    </tr>\n",
       "    <tr>\n",
       "      <th>14276</th>\n",
       "      <td>14870</td>\n",
       "      <td>adobe</td>\n",
       "      <td>photoshop</td>\n",
       "      <td>Adobe Photoshop 5.0 Professional</td>\n",
       "      <td>Neolane v6.0 6.1.0 Build 8192</td>\n",
       "      <td>5</td>\n",
       "      <td>-</td>\n",
       "      <td>25</td>\n",
       "      <td>25</td>\n",
       "      <td>100</td>\n",
       "      <td>25</td>\n",
       "      <td>25</td>\n",
       "      <td>0</td>\n",
       "      <td>0</td>\n",
       "      <td>cpe:/a:adobe:photoshop:5.0::pro</td>\n",
       "      <td>32</td>\n",
       "      <td>29</td>\n",
       "      <td>0</td>\n",
       "    </tr>\n",
       "  </tbody>\n",
       "</table>\n",
       "</div>"
      ],
      "text/plain": [
       "       Unnamed: 0 vendor_X             software_X  \\\n",
       "17683       18277   google                 chrome   \n",
       "18200       18794   google                 chrome   \n",
       "6549         6993    adobe           flash_player   \n",
       "13851       14445    adobe  color_common_settings   \n",
       "14276       14870    adobe              photoshop   \n",
       "\n",
       "                                 title_X                   DisplayName0  \\\n",
       "17683         Google Chrome 29.0.1547.56                    谷歌拼音输入法 3.0   \n",
       "18200         Google Chrome 34.0.1847.59                    谷歌拼音输入法 3.0   \n",
       "6549     Adobe Flash Player 11.2.202.258   Adobe Flash Media Server 4.5   \n",
       "13851  Adobe Color Common Settings 1.0.1  Neolane v6.0 6.1.0 Build 8192   \n",
       "14276   Adobe Photoshop 5.0 Professional  Neolane v6.0 6.1.0 Build 8192   \n",
       "\n",
       "          release_X Version0  fz_ratio  fz_ptl_ratio  fz_tok_set_ratio  \\\n",
       "17683  29.0.1547.56        -        19            27               100   \n",
       "18200  34.0.1847.59        -        25            36               100   \n",
       "6549   11.2.202.258        -        55            54               100   \n",
       "13851         1.0.1        -        31            31               100   \n",
       "14276             5        -        25            25               100   \n",
       "\n",
       "       fz_ptl_tok_sort_ratio  fz_uwratio  fz_rel_ratio  fz_rel_ptl_ratio  \\\n",
       "17683                     20          85             0                 0   \n",
       "18200                     27          85             0                 0   \n",
       "6549                      51          51             0                 0   \n",
       "13851                     39          37             0                 0   \n",
       "14276                     25          25             0                 0   \n",
       "\n",
       "                                     t_cve_name  titlX_len  DsplyNm0_len  \\\n",
       "17683         cpe:/a:google:chrome:29.0.1547.56         26            11   \n",
       "18200         cpe:/a:google:chrome:34.0.1847.59         26            11   \n",
       "6549     cpe:/a:adobe:flash_player:11.2.202.258         31            28   \n",
       "13851  cpe:/a:adobe:color_common_settings:1.0.1         33            29   \n",
       "14276           cpe:/a:adobe:photoshop:5.0::pro         32            29   \n",
       "\n",
       "       match  \n",
       "17683      0  \n",
       "18200      0  \n",
       "6549       0  \n",
       "13851      0  \n",
       "14276      0  "
      ]
     },
     "execution_count": 2,
     "metadata": {},
     "output_type": "execute_result"
    }
   ],
   "source": [
    "# Print out some sample values\n",
    "\n",
    "df_label_software.sample(5)"
   ]
  },
  {
   "cell_type": "code",
   "execution_count": 3,
   "metadata": {},
   "outputs": [
    {
     "data": {
      "text/plain": [
       "False"
      ]
     },
     "execution_count": 3,
     "metadata": {},
     "output_type": "execute_result"
    }
   ],
   "source": [
    "# Check that all rows are labelled\n",
    "\n",
    "# (Should return \"False\")\n",
    "\n",
    "df_label_software['match'].isnull().any()"
   ]
  },
  {
   "cell_type": "code",
   "execution_count": 4,
   "metadata": {},
   "outputs": [
    {
     "name": "stdout",
     "output_type": "stream",
     "text": [
      "(22262, 9) (22262,)\n"
     ]
    }
   ],
   "source": [
    "# Format training data as \"X\" == \"features, \"y\" == target.\n",
    "# The target value is the 1st column.\n",
    "df_match_train1 = df_label_software[['match', 'fz_ratio', 'fz_ptl_ratio', 'fz_tok_set_ratio',\n",
    "        'fz_ptl_tok_sort_ratio', 'fz_uwratio', 'fz_rel_ratio',\n",
    "        'fz_rel_ptl_ratio', 'titlX_len', 'DsplyNm0_len']]\n",
    "\n",
    "# Convert into 2 numpy arrays for the scikit-learn ML classification algorithms.\n",
    "np_match_train1 = np.asarray(df_match_train1)\n",
    "X, y = np_match_train1[:, 1:], np_match_train1[:, 0]\n",
    "\n",
    "print(X.shape, y.shape)"
   ]
  },
  {
   "cell_type": "markdown",
   "metadata": {},
   "source": [
    "## Use a grid search to tune the ML algorithm\n",
    "\n",
    "As before, the classification algorithm needs to be tuned for optimal performance with the data.\n",
    "\n",
    "This is done using a randomized grid search.\n",
    "This code was modified from the [scikit-learn sample code](http://scikit-learn.org/stable/auto_examples/model_selection/randomized_search.html#sphx-glr-auto-examples-model-selection-randomized-search-py)."
   ]
  },
  {
   "cell_type": "code",
   "execution_count": 6,
   "metadata": {},
   "outputs": [
    {
     "name": "stdout",
     "output_type": "stream",
     "text": [
      "RandomizedSearchCV took 47.10 seconds for 40 candidates parameter settings.\n",
      "Model with rank: 1\n",
      "Mean validation score: 0.976 (std: 0.008)\n",
      "Parameters: {'bootstrap': True, 'class_weight': None, 'criterion': 'entropy', 'max_depth': 3, 'max_features': 5, 'min_samples_leaf': 5, 'min_samples_split': 3, 'n_estimators': 30}\n",
      "\n",
      "Model with rank: 2\n",
      "Mean validation score: 0.976 (std: 0.008)\n",
      "Parameters: {'bootstrap': False, 'class_weight': None, 'criterion': 'gini', 'max_depth': None, 'max_features': 1, 'min_samples_leaf': 2, 'min_samples_split': 3, 'n_estimators': 43}\n",
      "\n",
      "Model with rank: 3\n",
      "Mean validation score: 0.976 (std: 0.008)\n",
      "Parameters: {'bootstrap': True, 'class_weight': None, 'criterion': 'entropy', 'max_depth': 3, 'max_features': 4, 'min_samples_leaf': 1, 'min_samples_split': 4, 'n_estimators': 21}\n",
      "\n",
      "Model with rank: 3\n",
      "Mean validation score: 0.976 (std: 0.008)\n",
      "Parameters: {'bootstrap': True, 'class_weight': None, 'criterion': 'entropy', 'max_depth': 3, 'max_features': 4, 'min_samples_leaf': 2, 'min_samples_split': 2, 'n_estimators': 78}\n",
      "\n"
     ]
    }
   ],
   "source": [
    "#\tNow find optimum parameters for model using Grid Search\n",
    "\n",
    "from time import time\n",
    "from scipy.stats import randint as sp_randint\n",
    "\n",
    "from sklearn.model_selection import RandomizedSearchCV\n",
    "from sklearn.ensemble import RandomForestClassifier\n",
    "\n",
    "# build a classifier\n",
    "clf = RandomForestClassifier()\n",
    "\n",
    "# Utility function to report best scores\n",
    "def report(results, n_top=3):\n",
    "    for i in range(1, n_top + 1):\n",
    "        candidates = np.flatnonzero(results['rank_test_score'] == i)\n",
    "        for candidate in candidates:\n",
    "            print(\"Model with rank: {0}\".format(i))\n",
    "            print(\"Mean validation score: {0:.3f} (std: {1:.3f})\".format(\n",
    "                  results['mean_test_score'][candidate],\n",
    "                  results['std_test_score'][candidate]))\n",
    "            print(\"Parameters: {0}\".format(results['params'][candidate]))\n",
    "            print(\"\")\n",
    "            \n",
    "\n",
    "# specify parameters and distributions to sample from\n",
    "param_dist = {\"n_estimators\": sp_randint(20, 100),\n",
    "              \"max_depth\": [3, None],\n",
    "              \"max_features\": sp_randint(1,7),\n",
    "              \"min_samples_split\": sp_randint(2,7),\n",
    "              \"min_samples_leaf\": sp_randint(1, 7),\n",
    "              \"bootstrap\": [True, False],\n",
    "              \"class_weight\": ['auto', None],\n",
    "              \"criterion\": [\"gini\", \"entropy\"]}\n",
    "\n",
    "# run randomized search\n",
    "n_iter_search = 40\n",
    "random_search = RandomizedSearchCV(clf, param_distributions=param_dist,\n",
    "                                   n_iter=n_iter_search)\n",
    "\n",
    "start = time()\n",
    "random_search.fit(X, y)\n",
    "print(\"RandomizedSearchCV took %.2f seconds for %d candidates\"\n",
    "      \" parameter settings.\" % ((time() - start), n_iter_search))\n",
    "report(random_search.cv_results_)"
   ]
  },
  {
   "cell_type": "markdown",
   "metadata": {},
   "source": [
    "\n",
    "## Run the ML classifier with optimum parameters on the test data\n",
    "\n",
    "Based on the above, and ignoring default values, the optimum set of parameters would be something like the following:\n",
    "\n",
    "    'bootstrap':True, 'min_samples_leaf': 3, 'n_estimators': 55, 'min_samples_split': 3, 'criterion':'entropy', 'max_features': 4, 'max_depth: 3, 'class_weight': None\n",
    "\n",
    "The RandomForest classifier is now trained on the test data to produce the model."
   ]
  },
  {
   "cell_type": "code",
   "execution_count": 10,
   "metadata": {},
   "outputs": [
    {
     "data": {
      "text/plain": [
       "['/home/jovyan/work/vulnmine/vulnmine_data/software_classif_trained_Rdm_Forest.pkl.z']"
      ]
     },
     "execution_count": 10,
     "metadata": {},
     "output_type": "execute_result"
    }
   ],
   "source": [
    "clf = RandomForestClassifier(\n",
    "    bootstrap=True,\n",
    "    min_samples_leaf=3,\n",
    "    n_estimators=55,\n",
    "    min_samples_split=3,\n",
    "    criterion='entropy',\n",
    "    max_features=4,\n",
    "    max_depth=3,\n",
    "    class_weight=None\n",
    ")\n",
    "\n",
    "# Train model on original training data\n",
    "clf.fit(X, y)\n",
    "\n",
    "# save model for future use\n",
    "\n",
    "from sklearn.externals import joblib\n",
    "joblib.dump(clf, '/home/jovyan/work/vulnmine/vulnmine_data/software_classif_trained_Rdm_Forest.pkl.z') "
   ]
  },
  {
   "cell_type": "code",
   "execution_count": 11,
   "metadata": {},
   "outputs": [],
   "source": [
    "# Test loading\n",
    "\n",
    "clf = joblib.load('/home/jovyan/work/vulnmine/vulnmine_data/software_classif_trained_Rdm_Forest.pkl.z')"
   ]
  },
  {
   "cell_type": "code",
   "execution_count": null,
   "metadata": {},
   "outputs": [],
   "source": []
  }
 ],
 "metadata": {
  "kernelspec": {
   "display_name": "Python 3",
   "language": "python",
   "name": "python3"
  },
  "language_info": {
   "codemirror_mode": {
    "name": "ipython",
    "version": 3
   },
   "file_extension": ".py",
   "mimetype": "text/x-python",
   "name": "python",
   "nbconvert_exporter": "python",
   "pygments_lexer": "ipython3",
   "version": "3.6.3"
  }
 },
 "nbformat": 4,
 "nbformat_minor": 2
}
