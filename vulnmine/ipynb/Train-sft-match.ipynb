{
 "cells": [
  {
   "cell_type": "markdown",
   "metadata": {},
   "source": [
    "# Train software matching algorithm\n",
    "\n",
    "This is the follow-on from the previous notebook \"Train vendor matching algorithm\".\n",
    "\n",
    "The training proceeds in a similar manner:\n",
    "\n",
    "* First the algorithm is tuned for typical data by using a grid search.\n",
    "* Next the ML classifier is run on the training data using the optimum parameters.\n",
    "* Finally the trained model is stored for future use."
   ]
  },
  {
   "cell_type": "markdown",
   "metadata": {},
   "source": [
    "## Read in the software training data\n",
    "\n",
    "Read in the manually labelled software training data.\n",
    "\n",
    "Format it and convert to two numpy arrays for input to the scikit-learn ML algorithm."
   ]
  },
  {
   "cell_type": "code",
   "execution_count": 12,
   "metadata": {},
   "outputs": [
    {
     "data": {
      "text/plain": [
       "(22262, 18)"
      ]
     },
     "execution_count": 12,
     "metadata": {},
     "output_type": "execute_result"
    }
   ],
   "source": [
    "# Initialize\n",
    "\n",
    "import pandas as pd\n",
    "import numpy as np\n",
    "\n",
    "try:\n",
    "    df_label_software = pd.io.parsers.read_csv(\n",
    "                            \"/home/jovyan/work/vulnmine/vulnmine_data/label_software.csv\",\n",
    "                            error_bad_lines=False,\n",
    "                            warn_bad_lines=True,\n",
    "                            quotechar='\"',\n",
    "                            encoding='utf-8')\n",
    "except IOError as e:\n",
    "    print('\\n\\n***I/O error({0}): {1}\\n\\n'.format(\n",
    "                e.errno, e.strerror))\n",
    "\n",
    "# except ValueError:\n",
    "#    self.logger.critical('Could not convert data to an integer.')\n",
    "except:\n",
    "    print(\n",
    "        '\\n\\n***Unexpected error: {0}\\n\\n'.format(\n",
    "            sys.exc_info()[0]))\n",
    "    raise\n",
    "\n",
    "# Number of records / columns\n",
    "\n",
    "df_label_software.shape"
   ]
  },
  {
   "cell_type": "code",
   "execution_count": 13,
   "metadata": {},
   "outputs": [
    {
     "data": {
      "text/html": [
       "<div>\n",
       "<style scoped>\n",
       "    .dataframe tbody tr th:only-of-type {\n",
       "        vertical-align: middle;\n",
       "    }\n",
       "\n",
       "    .dataframe tbody tr th {\n",
       "        vertical-align: top;\n",
       "    }\n",
       "\n",
       "    .dataframe thead th {\n",
       "        text-align: right;\n",
       "    }\n",
       "</style>\n",
       "<table border=\"1\" class=\"dataframe\">\n",
       "  <thead>\n",
       "    <tr style=\"text-align: right;\">\n",
       "      <th></th>\n",
       "      <th>Unnamed: 0</th>\n",
       "      <th>vendor_X</th>\n",
       "      <th>software_X</th>\n",
       "      <th>title_X</th>\n",
       "      <th>DisplayName0</th>\n",
       "      <th>release_X</th>\n",
       "      <th>Version0</th>\n",
       "      <th>fz_ratio</th>\n",
       "      <th>fz_ptl_ratio</th>\n",
       "      <th>fz_tok_set_ratio</th>\n",
       "      <th>fz_ptl_tok_sort_ratio</th>\n",
       "      <th>fz_uwratio</th>\n",
       "      <th>fz_rel_ratio</th>\n",
       "      <th>fz_rel_ptl_ratio</th>\n",
       "      <th>t_cve_name</th>\n",
       "      <th>titlX_len</th>\n",
       "      <th>DsplyNm0_len</th>\n",
       "      <th>match</th>\n",
       "    </tr>\n",
       "  </thead>\n",
       "  <tbody>\n",
       "    <tr>\n",
       "      <th>4608</th>\n",
       "      <td>4920</td>\n",
       "      <td>adobe</td>\n",
       "      <td>acrobat</td>\n",
       "      <td>Adobe Acrobat X (10.0.3)</td>\n",
       "      <td>Adobe Acrobat 9.5.5 - CPSID_83708</td>\n",
       "      <td>10.0.3</td>\n",
       "      <td>-</td>\n",
       "      <td>53</td>\n",
       "      <td>60</td>\n",
       "      <td>100</td>\n",
       "      <td>54</td>\n",
       "      <td>85</td>\n",
       "      <td>0</td>\n",
       "      <td>0</td>\n",
       "      <td>cpe:/a:adobe:acrobat:10.0.3</td>\n",
       "      <td>24</td>\n",
       "      <td>33</td>\n",
       "      <td>0</td>\n",
       "    </tr>\n",
       "    <tr>\n",
       "      <th>12044</th>\n",
       "      <td>12590</td>\n",
       "      <td>adobe</td>\n",
       "      <td>flash_player</td>\n",
       "      <td>Adobe Flash Player 10.1.95.2</td>\n",
       "      <td>Neolane v6.0 6.1.0 Build 8152</td>\n",
       "      <td>10.1.95.2</td>\n",
       "      <td>-</td>\n",
       "      <td>38</td>\n",
       "      <td>33</td>\n",
       "      <td>100</td>\n",
       "      <td>43</td>\n",
       "      <td>46</td>\n",
       "      <td>0</td>\n",
       "      <td>0</td>\n",
       "      <td>cpe:/a:adobe:flash_player:10.1.95.2</td>\n",
       "      <td>28</td>\n",
       "      <td>29</td>\n",
       "      <td>0</td>\n",
       "    </tr>\n",
       "    <tr>\n",
       "      <th>11142</th>\n",
       "      <td>11664</td>\n",
       "      <td>adobe</td>\n",
       "      <td>flash_player</td>\n",
       "      <td>Adobe Flash MX 2004 7.0.60.0</td>\n",
       "      <td>Neolane v6.0 6.1.0 Build 8113</td>\n",
       "      <td>7.0.60.0</td>\n",
       "      <td>-</td>\n",
       "      <td>30</td>\n",
       "      <td>33</td>\n",
       "      <td>100</td>\n",
       "      <td>43</td>\n",
       "      <td>40</td>\n",
       "      <td>0</td>\n",
       "      <td>0</td>\n",
       "      <td>cpe:/a:adobe:flash_player:7.0.60.0</td>\n",
       "      <td>28</td>\n",
       "      <td>29</td>\n",
       "      <td>0</td>\n",
       "    </tr>\n",
       "    <tr>\n",
       "      <th>9204</th>\n",
       "      <td>9678</td>\n",
       "      <td>adobe</td>\n",
       "      <td>flash_player</td>\n",
       "      <td>Adobe Flash Player 8.0.22.0</td>\n",
       "      <td>Neolane v6 6.1.0 Build 8172</td>\n",
       "      <td>8.0.22.0</td>\n",
       "      <td>-</td>\n",
       "      <td>28</td>\n",
       "      <td>30</td>\n",
       "      <td>100</td>\n",
       "      <td>46</td>\n",
       "      <td>43</td>\n",
       "      <td>0</td>\n",
       "      <td>0</td>\n",
       "      <td>cpe:/a:adobe:flash_player:8.0.22.0</td>\n",
       "      <td>27</td>\n",
       "      <td>27</td>\n",
       "      <td>0</td>\n",
       "    </tr>\n",
       "    <tr>\n",
       "      <th>4767</th>\n",
       "      <td>5130</td>\n",
       "      <td>adobe</td>\n",
       "      <td>acrobat_reader</td>\n",
       "      <td>Adobe Acrobat Reader 11.0.7</td>\n",
       "      <td>Adobe Acrobat 9.5.5 - CPSID_83708</td>\n",
       "      <td>11.0.7</td>\n",
       "      <td>-</td>\n",
       "      <td>50</td>\n",
       "      <td>52</td>\n",
       "      <td>100</td>\n",
       "      <td>52</td>\n",
       "      <td>50</td>\n",
       "      <td>0</td>\n",
       "      <td>0</td>\n",
       "      <td>cpe:/a:adobe:acrobat_reader:11.0.7</td>\n",
       "      <td>27</td>\n",
       "      <td>33</td>\n",
       "      <td>0</td>\n",
       "    </tr>\n",
       "  </tbody>\n",
       "</table>\n",
       "</div>"
      ],
      "text/plain": [
       "       Unnamed: 0 vendor_X      software_X                       title_X  \\\n",
       "4608         4920    adobe         acrobat      Adobe Acrobat X (10.0.3)   \n",
       "12044       12590    adobe    flash_player  Adobe Flash Player 10.1.95.2   \n",
       "11142       11664    adobe    flash_player  Adobe Flash MX 2004 7.0.60.0   \n",
       "9204         9678    adobe    flash_player   Adobe Flash Player 8.0.22.0   \n",
       "4767         5130    adobe  acrobat_reader   Adobe Acrobat Reader 11.0.7   \n",
       "\n",
       "                            DisplayName0  release_X Version0  fz_ratio  \\\n",
       "4608   Adobe Acrobat 9.5.5 - CPSID_83708     10.0.3        -        53   \n",
       "12044      Neolane v6.0 6.1.0 Build 8152  10.1.95.2        -        38   \n",
       "11142      Neolane v6.0 6.1.0 Build 8113   7.0.60.0        -        30   \n",
       "9204         Neolane v6 6.1.0 Build 8172   8.0.22.0        -        28   \n",
       "4767   Adobe Acrobat 9.5.5 - CPSID_83708     11.0.7        -        50   \n",
       "\n",
       "       fz_ptl_ratio  fz_tok_set_ratio  fz_ptl_tok_sort_ratio  fz_uwratio  \\\n",
       "4608             60               100                     54          85   \n",
       "12044            33               100                     43          46   \n",
       "11142            33               100                     43          40   \n",
       "9204             30               100                     46          43   \n",
       "4767             52               100                     52          50   \n",
       "\n",
       "       fz_rel_ratio  fz_rel_ptl_ratio                           t_cve_name  \\\n",
       "4608              0                 0          cpe:/a:adobe:acrobat:10.0.3   \n",
       "12044             0                 0  cpe:/a:adobe:flash_player:10.1.95.2   \n",
       "11142             0                 0   cpe:/a:adobe:flash_player:7.0.60.0   \n",
       "9204              0                 0   cpe:/a:adobe:flash_player:8.0.22.0   \n",
       "4767              0                 0   cpe:/a:adobe:acrobat_reader:11.0.7   \n",
       "\n",
       "       titlX_len  DsplyNm0_len  match  \n",
       "4608          24            33      0  \n",
       "12044         28            29      0  \n",
       "11142         28            29      0  \n",
       "9204          27            27      0  \n",
       "4767          27            33      0  "
      ]
     },
     "execution_count": 13,
     "metadata": {},
     "output_type": "execute_result"
    }
   ],
   "source": [
    "# Print out some sample values\n",
    "\n",
    "df_label_software.sample(5)"
   ]
  },
  {
   "cell_type": "code",
   "execution_count": 14,
   "metadata": {},
   "outputs": [
    {
     "data": {
      "text/plain": [
       "False"
      ]
     },
     "execution_count": 14,
     "metadata": {},
     "output_type": "execute_result"
    }
   ],
   "source": [
    "# Check that all rows are labelled\n",
    "\n",
    "# (Should return \"False\")\n",
    "\n",
    "df_label_software['match'].isnull().any()"
   ]
  },
  {
   "cell_type": "code",
   "execution_count": 15,
   "metadata": {},
   "outputs": [
    {
     "name": "stdout",
     "output_type": "stream",
     "text": [
      "(22262, 9) (22262,)\n"
     ]
    }
   ],
   "source": [
    "# Format training data as \"X\" == \"features, \"y\" == target.\n",
    "# The target value is the 1st column.\n",
    "df_match_train1 = df_label_software[['match', 'fz_ratio', 'fz_ptl_ratio', 'fz_tok_set_ratio',\n",
    "        'fz_ptl_tok_sort_ratio', 'fz_uwratio', 'fz_rel_ratio',\n",
    "        'fz_rel_ptl_ratio', 'titlX_len', 'DsplyNm0_len']]\n",
    "\n",
    "# Convert into 2 numpy arrays for the scikit-learn ML classification algorithms.\n",
    "np_match_train1 = np.asarray(df_match_train1)\n",
    "X, y = np_match_train1[:, 1:], np_match_train1[:, 0]\n",
    "\n",
    "print(X.shape, y.shape)"
   ]
  },
  {
   "cell_type": "markdown",
   "metadata": {},
   "source": [
    "## Use a grid search to tune the ML algorithm\n",
    "\n",
    "As before, the classification algorithm needs to be tuned for optimal performance with the data.\n",
    "\n",
    "This is done using a randomized grid search.\n",
    "This code was modified from the [scikit-learn sample code](http://scikit-learn.org/stable/auto_examples/model_selection/randomized_search.html#sphx-glr-auto-examples-model-selection-randomized-search-py)."
   ]
  },
  {
   "cell_type": "code",
   "execution_count": 16,
   "metadata": {},
   "outputs": [
    {
     "name": "stdout",
     "output_type": "stream",
     "text": [
      "RandomizedSearchCV took 48.46 seconds for 40 candidates parameter settings.\n",
      "Model with rank: 1\n",
      "Mean validation score: 0.976 (std: 0.007)\n",
      "Parameters: {'bootstrap': True, 'class_weight': 'balanced', 'criterion': 'gini', 'max_depth': None, 'max_features': 4, 'min_samples_leaf': 3, 'min_samples_split': 4, 'n_estimators': 21}\n",
      "\n",
      "Model with rank: 2\n",
      "Mean validation score: 0.976 (std: 0.008)\n",
      "Parameters: {'bootstrap': True, 'class_weight': None, 'criterion': 'gini', 'max_depth': None, 'max_features': 2, 'min_samples_leaf': 4, 'min_samples_split': 2, 'n_estimators': 32}\n",
      "\n",
      "Model with rank: 2\n",
      "Mean validation score: 0.976 (std: 0.009)\n",
      "Parameters: {'bootstrap': True, 'class_weight': None, 'criterion': 'entropy', 'max_depth': None, 'max_features': 4, 'min_samples_leaf': 3, 'min_samples_split': 4, 'n_estimators': 48}\n",
      "\n"
     ]
    }
   ],
   "source": [
    "#\tNow find optimum parameters for model using Grid Search\n",
    "\n",
    "from time import time\n",
    "from scipy.stats import randint as sp_randint\n",
    "\n",
    "from sklearn.model_selection import RandomizedSearchCV\n",
    "from sklearn.ensemble import RandomForestClassifier\n",
    "\n",
    "# build a classifier\n",
    "clf = RandomForestClassifier()\n",
    "\n",
    "# Utility function to report best scores\n",
    "def report(results, n_top=3):\n",
    "    for i in range(1, n_top + 1):\n",
    "        candidates = np.flatnonzero(results['rank_test_score'] == i)\n",
    "        for candidate in candidates:\n",
    "            print(\"Model with rank: {0}\".format(i))\n",
    "            print(\"Mean validation score: {0:.3f} (std: {1:.3f})\".format(\n",
    "                  results['mean_test_score'][candidate],\n",
    "                  results['std_test_score'][candidate]))\n",
    "            print(\"Parameters: {0}\".format(results['params'][candidate]))\n",
    "            print(\"\")\n",
    "            \n",
    "\n",
    "# specify parameters and distributions to sample from\n",
    "param_dist = {\"n_estimators\": sp_randint(20, 100),\n",
    "              \"max_depth\": [3, None],\n",
    "              \"max_features\": sp_randint(1,7),\n",
    "              \"min_samples_split\": sp_randint(2,7),\n",
    "              \"min_samples_leaf\": sp_randint(1, 7),\n",
    "              \"bootstrap\": [True, False],\n",
    "              \"class_weight\": ['balanced', None],\n",
    "              \"criterion\": [\"gini\", \"entropy\"]}\n",
    "\n",
    "# run randomized search\n",
    "n_iter_search = 40\n",
    "random_search = RandomizedSearchCV(clf, param_distributions=param_dist,\n",
    "                                   n_iter=n_iter_search)\n",
    "\n",
    "start = time()\n",
    "random_search.fit(X, y)\n",
    "print(\"RandomizedSearchCV took %.2f seconds for %d candidates\"\n",
    "      \" parameter settings.\" % ((time() - start), n_iter_search))\n",
    "report(random_search.cv_results_)"
   ]
  },
  {
   "cell_type": "markdown",
   "metadata": {},
   "source": [
    "\n",
    "## Run the ML classifier with optimum parameters on the test data\n",
    "\n",
    "Based on the above, and ignoring default values, the optimum set of parameters would be something like the following:\n",
    "\n",
    "    'bootstrap':True, 'min_samples_leaf': 3, 'n_estimators': 35, 'min_samples_split': 4, 'criterion':'gini', 'max_features': 4, 'max_depth: None, 'class_weight': None\n",
    "\n",
    "The RandomForest classifier is now trained on the test data to produce the model."
   ]
  },
  {
   "cell_type": "code",
   "execution_count": 19,
   "metadata": {},
   "outputs": [
    {
     "data": {
      "text/plain": [
       "['/home/jovyan/work/vulnmine/vulnmine_data/software_classif_trained_Rdm_Forest.pkl.z']"
      ]
     },
     "execution_count": 19,
     "metadata": {},
     "output_type": "execute_result"
    }
   ],
   "source": [
    "clf = RandomForestClassifier(\n",
    "    bootstrap=True,\n",
    "    min_samples_leaf=3,\n",
    "    n_estimators=35,\n",
    "    min_samples_split=4,\n",
    "    criterion='gini',\n",
    "    max_features=4,\n",
    "    max_depth=None,\n",
    "    class_weight=None\n",
    ")\n",
    "\n",
    "# Train model on original training data\n",
    "clf.fit(X, y)\n",
    "\n",
    "# save model for future use\n",
    "\n",
    "from sklearn.externals import joblib\n",
    "joblib.dump(clf, '/home/jovyan/work/vulnmine/vulnmine_data/software_classif_trained_Rdm_Forest.pkl.z') "
   ]
  },
  {
   "cell_type": "code",
   "execution_count": 20,
   "metadata": {},
   "outputs": [],
   "source": [
    "# Test loading\n",
    "\n",
    "clf = joblib.load('/home/jovyan/work/vulnmine/vulnmine_data/software_classif_trained_Rdm_Forest.pkl.z')"
   ]
  },
  {
   "cell_type": "code",
   "execution_count": null,
   "metadata": {},
   "outputs": [],
   "source": []
  }
 ],
 "metadata": {
  "kernelspec": {
   "display_name": "Python 3",
   "language": "python",
   "name": "python3"
  },
  "language_info": {
   "codemirror_mode": {
    "name": "ipython",
    "version": 3
   },
   "file_extension": ".py",
   "mimetype": "text/x-python",
   "name": "python",
   "nbconvert_exporter": "python",
   "pygments_lexer": "ipython3",
   "version": "3.6.5"
  }
 },
 "nbformat": 4,
 "nbformat_minor": 2
}
