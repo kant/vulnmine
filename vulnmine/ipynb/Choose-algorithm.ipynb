{
 "cells": [
  {
   "cell_type": "markdown",
   "metadata": {},
   "source": [
    "# Choose the best classification algorithm\n",
    "\n",
    "### Use a k-fold cross-validation to choose the best classification algorithm\n",
    "\n",
    "From the scikit-learn documentation concerning [k-fold cross-validation](http://scikit-learn.org/stable/modules/cross_validation.html):\n",
    "\n",
    ">To avoid it [\"overfitting\"], it is common practice when performing a (supervised) machine learning experiment to hold out part of the available data as a test set X_test, y_test.\n",
    "\n",
    ">In the basic approach, called *k-fold CV*, the training set is split into k smaller sets... The following procedure is followed for each of the k “folds”:\n",
    "\n",
    "> * A model is trained using k-1 of the folds as training data;\n",
    "* the resulting model is validated on the remaining part of the data (i.e., it is used as a test set to compute a performance measure such as accuracy).\n",
    "\n",
    "The following code uses this technique to evaluate the relative performance of various ML classification algorithms on the training data.\n",
    "\n",
    "RandomForest is one of the best choices."
   ]
  },
  {
   "cell_type": "code",
   "execution_count": 7,
   "metadata": {},
   "outputs": [
    {
     "name": "stdout",
     "output_type": "stream",
     "text": [
      "xlrd 1.1.0\n",
      "widgetsnbextension 3.2.1\n",
      "wheel 0.31.0\n",
      "webencodings 0.5\n",
      "wcwidth 0.1.7\n",
      "vincent 0.4.4\n",
      "urllib3 1.23\n",
      "traitlets 4.3.2\n",
      "tornado 5.0.2\n",
      "toolz 0.9.0\n",
      "testpath 0.3.1\n",
      "terminado 0.8.1\n",
      "sympy 1.1.1\n",
      "statsmodels 0.9.0\n",
      "SQLAlchemy 1.2.8\n",
      "six 1.11.0\n",
      "simplegeneric 0.8.1\n",
      "setuptools 39.2.0\n",
      "Send2Trash 1.5.0\n",
      "seaborn 0.8.1\n",
      "scipy 1.1.0\n",
      "scikit-learn 0.19.1\n",
      "scikit-image 0.14.0\n",
      "ruamel-yaml 0.15.40\n",
      "requests 2.19.1\n",
      "pyzmq 17.0.0\n",
      "PyYAML 3.12\n",
      "PyWavelets 0.5.2\n",
      "pytz 2018.4\n",
      "python-oauth2 1.0.1\n",
      "python-editor 1.0.3\n",
      "python-dateutil 2.7.3\n",
      "PySocks 1.6.8\n",
      "pyparsing 2.2.0\n",
      "pyOpenSSL 18.0.0\n",
      "Pygments 2.2.0\n",
      "pycparser 2.18\n",
      "pycosat 0.6.3\n",
      "ptyprocess 0.5.2\n",
      "protobuf 3.5.2\n",
      "prompt-toolkit 1.0.15\n",
      "pip 9.0.3\n",
      "Pillow 5.1.0\n",
      "pickleshare 0.7.4\n",
      "pexpect 4.6.0\n",
      "patsy 0.5.0\n",
      "parso 0.2.1\n",
      "pandocfilters 1.4.2\n",
      "pandas 0.23.1\n",
      "pamela 0.3.0\n",
      "packaging 17.1\n",
      "olefile 0.45.1\n",
      "numpy 1.13.3\n",
      "numexpr 2.6.5\n",
      "numba 0.38.1\n",
      "notebook 5.5.0\n",
      "networkx 2.1\n",
      "nbformat 4.4.0\n",
      "nbconvert 5.3.1\n",
      "mistune 0.8.3\n",
      "matplotlib 2.2.2\n",
      "MarkupSafe 1.0\n",
      "llvmlite 0.23.0\n",
      "kiwisolver 1.0.1\n",
      "jupyterlab 0.32.1\n",
      "jupyterlab-launcher 0.10.5\n",
      "jupyterhub 0.8.1\n",
      "jupyter-core 4.4.0\n",
      "jupyter-client 5.2.3\n",
      "jsonschema 2.6.0\n",
      "Jinja2 2.10\n",
      "jedi 0.12.0\n",
      "ipywidgets 7.2.1\n",
      "ipython 6.4.0\n",
      "ipython-genutils 0.2.0\n",
      "ipykernel 4.8.2\n",
      "imageio 2.3.0\n",
      "idna 2.7\n",
      "html5lib 1.0.1\n",
      "h5py 2.7.1\n",
      "gmpy2 2.0.8\n",
      "fastcache 1.0.2\n",
      "entrypoints 0.2.3\n",
      "dill 0.2.8.1\n",
      "decorator 4.3.0\n",
      "dask 0.18.1\n",
      "Cython 0.28.3\n",
      "cryptography 2.2.1\n",
      "conda 4.5.4\n",
      "cloudpickle 0.5.3\n",
      "chardet 3.0.4\n",
      "cffi 1.11.5\n",
      "certifi 2018.4.16\n",
      "bokeh 0.12.16\n",
      "bleach 2.1.3\n",
      "beautifulsoup4 4.6.0\n",
      "backcall 0.1.0\n",
      "asn1crypto 0.24.0\n",
      "alembic 0.9.9\n",
      "Mako 1.0.7\n",
      "cycler 0.10.0\n"
     ]
    }
   ],
   "source": [
    "# Initialize\n",
    "\n",
    "import pandas as pd\n",
    "import numpy as np\n",
    "import pip #needed to use the pip functions\n",
    "\n",
    "# Show versions of all installed software to help debug incompatibilities.\n",
    "\n",
    "for i in pip.get_installed_distributions(local_only=True):\n",
    "    print(i)"
   ]
  },
  {
   "cell_type": "markdown",
   "metadata": {},
   "source": [
    "## Read in the vendor training data\n",
    "\n",
    "Read in the manually labelled vendor training data.\n",
    "\n",
    "Format it and convert to two numpy arrays for input to the scikit-learn ML algorithm."
   ]
  },
  {
   "cell_type": "code",
   "execution_count": 8,
   "metadata": {},
   "outputs": [
    {
     "data": {
      "text/plain": [
       "(10110, 13)"
      ]
     },
     "execution_count": 8,
     "metadata": {},
     "output_type": "execute_result"
    }
   ],
   "source": [
    "try:\n",
    "    df_label_vendors = pd.io.parsers.read_csv(\n",
    "                            \"/home/jovyan/work/vulnmine/vulnmine_data/label_vendors.csv\",\n",
    "                            error_bad_lines=False,\n",
    "                            warn_bad_lines=True,\n",
    "                            quotechar='\"',\n",
    "                            encoding='utf-8')\n",
    "except IOError as e:\n",
    "    print('\\n\\n***I/O error({0}): {1}\\n\\n'.format(\n",
    "                e.errno, e.strerror))\n",
    "\n",
    "# except ValueError:\n",
    "#    self.logger.critical('Could not convert data to an integer.')\n",
    "except:\n",
    "    print(\n",
    "        '\\n\\n***Unexpected error: {0}\\n\\n'.format(\n",
    "            sys.exc_info()[0]))\n",
    "    raise\n",
    "\n",
    "# Number of records / columns\n",
    "\n",
    "df_label_vendors.shape"
   ]
  },
  {
   "cell_type": "code",
   "execution_count": 9,
   "metadata": {},
   "outputs": [
    {
     "name": "stdout",
     "output_type": "stream",
     "text": [
      "(10110, 7) (10110,)\n"
     ]
    }
   ],
   "source": [
    "# Format training data as \"X\" == \"features, \"y\" == target.\n",
    "# The target value is the 1st column.\n",
    "df_match_train1 = df_label_vendors[['match','fz_ptl_ratio', 'fz_ptl_tok_sort_ratio', 'fz_ratio', 'fz_tok_set_ratio', 'fz_uwratio','ven_len', 'pu0_len']]\n",
    "\n",
    "# Convert into 2 numpy arrays for the scikit-learn ML classification algorithms.\n",
    "np_match_train1 = np.asarray(df_match_train1)\n",
    "X, y = np_match_train1[:, 1:], np_match_train1[:, 0]\n",
    "\n",
    "print(X.shape, y.shape)"
   ]
  },
  {
   "cell_type": "code",
   "execution_count": 10,
   "metadata": {},
   "outputs": [
    {
     "name": "stdout",
     "output_type": "stream",
     "text": [
      "Ridge Classifier, Accuracy: 0.97 (+/- 0.02)\n",
      "Ridge Classifier #2, Accuracy: 0.97 (+/- 0.02)\n",
      "Perceptron, Accuracy: 0.93 (+/- 0.03)\n",
      "Passive-Aggressive, Accuracy: 0.92 (+/- 0.07)\n",
      "kNN, Accuracy: 0.98 (+/- 0.01)\n",
      "Nearest Centroid, Accuracy: 0.90 (+/- 0.04)\n",
      "Random forest, Accuracy: 0.98 (+/- 0.01)\n",
      "SGD / SVM, Accuracy: 0.91 (+/- 0.10)\n",
      "Naive Bayes, Accuracy: 0.78 (+/- 0.15)\n"
     ]
    }
   ],
   "source": [
    "# set up for k-fold cross-validation to choose best model\n",
    "\n",
    "#rom sklearn import cross_validation\n",
    "from sklearn.model_selection import cross_val_score\n",
    "\n",
    "from sklearn.linear_model import RidgeClassifier\n",
    "from sklearn.linear_model import SGDClassifier\n",
    "from sklearn.linear_model import Perceptron\n",
    "from sklearn.linear_model import PassiveAggressiveClassifier\n",
    "from sklearn.neighbors import KNeighborsClassifier\n",
    "from sklearn.neighbors import NearestCentroid\n",
    "from sklearn.ensemble import RandomForestClassifier\n",
    "from sklearn.naive_bayes import MultinomialNB\n",
    "\n",
    "\n",
    "\n",
    "for clf, clf_name in (\n",
    "\t\t(RidgeClassifier(alpha=1.0), \"Ridge Classifier\"),\n",
    "        (RidgeClassifier(tol=1e-2, solver=\"lsqr\"), \"Ridge Classifier #2\"),\n",
    "        (Perceptron(max_iter=100), \"Perceptron\"),\n",
    "        (PassiveAggressiveClassifier(max_iter=100), \"Passive-Aggressive\"),\n",
    "        (KNeighborsClassifier(n_neighbors=10), \"kNN\"),\n",
    "        (NearestCentroid(), \"Nearest Centroid\"),\n",
    "        (RandomForestClassifier(n_estimators=100, class_weight=\"balanced\"), \"Random forest\"),\n",
    "\t\t(SGDClassifier(alpha=.0001, max_iter=50, penalty=\"l2\"), \"SGD / SVM\"),\n",
    "\t\t(MultinomialNB(alpha=.01), \"Naive Bayes\")):\n",
    "\n",
    "\tscores = cross_val_score(clf, X, y, cv=5)\n",
    "\tprint(\"%s, Accuracy: %0.2f (+/- %0.2f)\" % (clf_name, scores.mean(), scores.std() * 2))"
   ]
  },
  {
   "cell_type": "code",
   "execution_count": null,
   "metadata": {},
   "outputs": [],
   "source": []
  }
 ],
 "metadata": {
  "kernelspec": {
   "display_name": "Python 3",
   "language": "python",
   "name": "python3"
  },
  "language_info": {
   "codemirror_mode": {
    "name": "ipython",
    "version": 3
   },
   "file_extension": ".py",
   "mimetype": "text/x-python",
   "name": "python",
   "nbconvert_exporter": "python",
   "pygments_lexer": "ipython3",
   "version": "3.6.5"
  }
 },
 "nbformat": 4,
 "nbformat_minor": 2
}
