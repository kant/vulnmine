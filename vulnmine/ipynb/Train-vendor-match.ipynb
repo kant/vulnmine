{
 "cells": [
  {
   "cell_type": "markdown",
   "metadata": {},
   "source": [
    "# Train vendor matching algorithm\n",
    "\n",
    "The ML classification algorithm has to be retrained from time to time e.g. when scikit-learn undergoes a major release upgrade.\n",
    "\n",
    "The specific algorithm used is a [RandomForest classifier](http://scikit-learn.org/stable/modules/generated/sklearn.ensemble.RandomForestClassifier.html#sklearn.ensemble.RandomForestClassifier). In initial testing using a k-fold cross-validation approach, this algorithm outperformed several other simple classification algorithms\n",
    "\n",
    "The training proceeds as follows:\n",
    "\n",
    "* First the algorithm is tuned for typical data by using a grid search.\n",
    "* Next the ML classifier is run on the training data using the optimum parameters.\n",
    "* Finally the trained model is stored for future use."
   ]
  },
  {
   "cell_type": "code",
   "execution_count": 3,
   "metadata": {},
   "outputs": [
    {
     "name": "stdout",
     "output_type": "stream",
     "text": [
      "zict 0.1.3\n",
      "xlrd 1.1.0\n",
      "widgetsnbextension 3.0.8\n",
      "wheel 0.30.0\n",
      "webencodings 0.5\n",
      "wcwidth 0.1.7\n",
      "vincent 0.4.4\n",
      "urllib3 1.22\n",
      "traitlets 4.3.2\n",
      "tornado 4.5.2\n",
      "toolz 0.8.2\n",
      "testpath 0.3.1\n",
      "terminado 0.8.1\n",
      "tblib 1.3.2\n",
      "sympy 1.0\n",
      "statsmodels 0.8.0\n",
      "SQLAlchemy 1.1.13\n",
      "sortedcontainers 1.5.7\n",
      "six 1.11.0\n",
      "simplegeneric 0.8.1\n",
      "setuptools 36.6.0\n",
      "seaborn 0.7.1\n",
      "scipy 0.19.1\n",
      "scikit-learn 0.18.2\n",
      "scikit-image 0.12.3\n",
      "ruamel-yaml 0.11.14\n",
      "requests 2.18.4\n",
      "pyzmq 16.0.2\n",
      "PyYAML 3.12\n",
      "pytz 2017.3\n",
      "python-oauth2 1.0.1\n",
      "python-editor 1.0.3\n",
      "python-dateutil 2.6.1\n",
      "PySocks 1.6.7\n",
      "pyparsing 2.2.0\n",
      "pyOpenSSL 17.2.0\n",
      "Pygments 2.2.0\n",
      "pycparser 2.18\n",
      "pycosat 0.6.2\n",
      "ptyprocess 0.5.2\n",
      "psutil 5.4.0\n",
      "protobuf 3.5.0\n",
      "prompt-toolkit 1.0.15\n",
      "pip 9.0.1\n",
      "Pillow 4.2.1\n",
      "pickleshare 0.7.4\n",
      "pexpect 4.3.0\n",
      "patsy 0.4.1\n",
      "partd 0.3.8\n",
      "pandocfilters 1.4.1\n",
      "pandas 0.19.2\n",
      "pamela 0.3.0\n",
      "olefile 0.44\n",
      "numpy 1.12.1\n",
      "numexpr 2.6.4\n",
      "numba 0.31.0\n",
      "notebook 5.2.2\n",
      "networkx 2.0\n",
      "nbformat 4.4.0\n",
      "nbconvert 5.3.1\n",
      "msgpack-python 0.4.8\n",
      "mistune 0.8.3\n",
      "matplotlib 2.0.2\n",
      "MarkupSafe 1.0\n",
      "locket 0.2.0\n",
      "llvmlite 0.16.0\n",
      "jupyterlab 0.30.6\n",
      "jupyterlab-launcher 0.6.0\n",
      "jupyterhub 0.8.1\n",
      "jupyter-core 4.4.0\n",
      "jupyter-client 5.1.0\n",
      "jsonschema 2.6.0\n",
      "Jinja2 2.10\n",
      "jedi 0.10.2\n",
      "ipywidgets 7.0.5\n",
      "ipython 6.2.1\n",
      "ipython-genutils 0.2.0\n",
      "ipykernel 4.7.0\n",
      "idna 2.6\n",
      "html5lib 1.0.1\n",
      "heapdict 1.0.0\n",
      "h5py 2.6.0\n",
      "fastcache 1.0.2\n",
      "entrypoints 0.2.3\n",
      "distributed 1.20.2\n",
      "dill 0.2.6\n",
      "decorator 4.1.2\n",
      "dask 0.16.0\n",
      "Cython 0.25.2\n",
      "cryptography 2.0.3\n",
      "conda 4.3.29\n",
      "cloudpickle 0.2.2\n",
      "click 6.7\n",
      "chardet 3.0.4\n",
      "cffi 1.10.0\n",
      "certifi 2017.7.27.1\n",
      "bokeh 0.12.13\n",
      "bleach 2.0.0\n",
      "beautifulsoup4 4.5.3\n",
      "asn1crypto 0.22.0\n",
      "alembic 0.9.6\n",
      "Mako 1.0.7\n",
      "cycler 0.10.0\n"
     ]
    }
   ],
   "source": [
    "# Initialize\n",
    "\n",
    "import pandas as pd\n",
    "import numpy as np\n",
    "import pip #needed to use the pip functions\n",
    "\n",
    "# Show versions of all installed software to help debug incompatibilities.\n",
    "\n",
    "for i in pip.get_installed_distributions(local_only=True):\n",
    "    print(i)"
   ]
  },
  {
   "cell_type": "markdown",
   "metadata": {},
   "source": [
    "## Read in the vendor training data\n",
    "\n",
    "Read in the manually labelled vendor training data.\n",
    "\n",
    "Format it and convert to two numpy arrays for input to the scikit-learn ML algorithm."
   ]
  },
  {
   "cell_type": "code",
   "execution_count": 4,
   "metadata": {},
   "outputs": [
    {
     "data": {
      "text/plain": [
       "(10110, 13)"
      ]
     },
     "execution_count": 4,
     "metadata": {},
     "output_type": "execute_result"
    }
   ],
   "source": [
    "try:\n",
    "    df_label_vendors = pd.io.parsers.read_csv(\n",
    "                            \"/home/jovyan/work/vulnmine/vulnmine_data/label_vendors.csv\",\n",
    "                            error_bad_lines=False,\n",
    "                            warn_bad_lines=True,\n",
    "                            quotechar='\"',\n",
    "                            encoding='utf-8')\n",
    "except IOError as e:\n",
    "    print('\\n\\n***I/O error({0}): {1}\\n\\n'.format(\n",
    "                e.errno, e.strerror))\n",
    "\n",
    "# except ValueError:\n",
    "#    self.logger.critical('Could not convert data to an integer.')\n",
    "except:\n",
    "    print(\n",
    "        '\\n\\n***Unexpected error: {0}\\n\\n'.format(\n",
    "            sys.exc_info()[0]))\n",
    "    raise\n",
    "\n",
    "# Number of records / columns\n",
    "\n",
    "df_label_vendors.shape"
   ]
  },
  {
   "cell_type": "code",
   "execution_count": 5,
   "metadata": {},
   "outputs": [
    {
     "data": {
      "text/html": [
       "<div>\n",
       "<table border=\"1\" class=\"dataframe\">\n",
       "  <thead>\n",
       "    <tr style=\"text-align: right;\">\n",
       "      <th></th>\n",
       "      <th>Unnamed: 0</th>\n",
       "      <th>fz_ptl_ratio</th>\n",
       "      <th>fz_ptl_tok_sort_ratio</th>\n",
       "      <th>fz_ratio</th>\n",
       "      <th>fz_tok_set_ratio</th>\n",
       "      <th>fz_uwratio</th>\n",
       "      <th>pub0_cln</th>\n",
       "      <th>publisher0</th>\n",
       "      <th>ven_cln</th>\n",
       "      <th>vendor_X</th>\n",
       "      <th>match</th>\n",
       "      <th>ven_len</th>\n",
       "      <th>pu0_len</th>\n",
       "    </tr>\n",
       "  </thead>\n",
       "  <tbody>\n",
       "    <tr>\n",
       "      <th>6228</th>\n",
       "      <td>6228</td>\n",
       "      <td>75</td>\n",
       "      <td>100</td>\n",
       "      <td>38</td>\n",
       "      <td>24</td>\n",
       "      <td>90</td>\n",
       "      <td>nprof community</td>\n",
       "      <td>nprof community</td>\n",
       "      <td>ni</td>\n",
       "      <td>ni</td>\n",
       "      <td>0</td>\n",
       "      <td>2</td>\n",
       "      <td>15</td>\n",
       "    </tr>\n",
       "    <tr>\n",
       "      <th>8701</th>\n",
       "      <td>8701</td>\n",
       "      <td>50</td>\n",
       "      <td>100</td>\n",
       "      <td>38</td>\n",
       "      <td>24</td>\n",
       "      <td>90</td>\n",
       "      <td>bot productions</td>\n",
       "      <td>bot productions</td>\n",
       "      <td>ti</td>\n",
       "      <td>ti</td>\n",
       "      <td>0</td>\n",
       "      <td>2</td>\n",
       "      <td>15</td>\n",
       "    </tr>\n",
       "    <tr>\n",
       "      <th>2909</th>\n",
       "      <td>2909</td>\n",
       "      <td>50</td>\n",
       "      <td>100</td>\n",
       "      <td>42</td>\n",
       "      <td>27</td>\n",
       "      <td>90</td>\n",
       "      <td>intellibreeze</td>\n",
       "      <td>intellibreeze software</td>\n",
       "      <td>ez</td>\n",
       "      <td>ez</td>\n",
       "      <td>0</td>\n",
       "      <td>2</td>\n",
       "      <td>22</td>\n",
       "    </tr>\n",
       "    <tr>\n",
       "      <th>9555</th>\n",
       "      <td>9555</td>\n",
       "      <td>100</td>\n",
       "      <td>100</td>\n",
       "      <td>45</td>\n",
       "      <td>33</td>\n",
       "      <td>90</td>\n",
       "      <td>ubisoft toronto</td>\n",
       "      <td>ubisoft toronto</td>\n",
       "      <td>ubi</td>\n",
       "      <td>ubi</td>\n",
       "      <td>1</td>\n",
       "      <td>3</td>\n",
       "      <td>15</td>\n",
       "    </tr>\n",
       "    <tr>\n",
       "      <th>9396</th>\n",
       "      <td>9396</td>\n",
       "      <td>75</td>\n",
       "      <td>100</td>\n",
       "      <td>73</td>\n",
       "      <td>57</td>\n",
       "      <td>90</td>\n",
       "      <td>atmel</td>\n",
       "      <td>atmel</td>\n",
       "      <td>tm</td>\n",
       "      <td>tm software</td>\n",
       "      <td>0</td>\n",
       "      <td>11</td>\n",
       "      <td>5</td>\n",
       "    </tr>\n",
       "  </tbody>\n",
       "</table>\n",
       "</div>"
      ],
      "text/plain": [
       "      Unnamed: 0  fz_ptl_ratio  fz_ptl_tok_sort_ratio  fz_ratio  \\\n",
       "6228        6228            75                    100        38   \n",
       "8701        8701            50                    100        38   \n",
       "2909        2909            50                    100        42   \n",
       "9555        9555           100                    100        45   \n",
       "9396        9396            75                    100        73   \n",
       "\n",
       "      fz_tok_set_ratio  fz_uwratio           pub0_cln              publisher0  \\\n",
       "6228                24          90    nprof community         nprof community   \n",
       "8701                24          90    bot productions         bot productions   \n",
       "2909                27          90      intellibreeze  intellibreeze software   \n",
       "9555                33          90    ubisoft toronto         ubisoft toronto   \n",
       "9396                57          90              atmel                   atmel   \n",
       "\n",
       "     ven_cln     vendor_X  match  ven_len  pu0_len  \n",
       "6228      ni           ni      0        2       15  \n",
       "8701      ti           ti      0        2       15  \n",
       "2909      ez           ez      0        2       22  \n",
       "9555     ubi          ubi      1        3       15  \n",
       "9396      tm  tm software      0       11        5  "
      ]
     },
     "execution_count": 5,
     "metadata": {},
     "output_type": "execute_result"
    }
   ],
   "source": [
    "# Print out some sample values\n",
    "\n",
    "df_label_vendors.sample(5)"
   ]
  },
  {
   "cell_type": "code",
   "execution_count": 6,
   "metadata": {},
   "outputs": [
    {
     "data": {
      "text/plain": [
       "False"
      ]
     },
     "execution_count": 6,
     "metadata": {},
     "output_type": "execute_result"
    }
   ],
   "source": [
    "# Check that all rows are labelled\n",
    "\n",
    "# (Should return \"False\")\n",
    "\n",
    "df_label_vendors['match'].isnull().any()"
   ]
  },
  {
   "cell_type": "code",
   "execution_count": 7,
   "metadata": {},
   "outputs": [
    {
     "name": "stdout",
     "output_type": "stream",
     "text": [
      "(10110, 7) (10110,)\n"
     ]
    }
   ],
   "source": [
    "# Format training data as \"X\" == \"features, \"y\" == target.\n",
    "# The target value is the 1st column.\n",
    "df_match_train1 = df_label_vendors[['match','fz_ptl_ratio', 'fz_ptl_tok_sort_ratio', 'fz_ratio', 'fz_tok_set_ratio', 'fz_uwratio','ven_len', 'pu0_len']]\n",
    "\n",
    "# Convert into 2 numpy arrays for the scikit-learn ML classification algorithms.\n",
    "np_match_train1 = np.asarray(df_match_train1)\n",
    "X, y = np_match_train1[:, 1:], np_match_train1[:, 0]\n",
    "\n",
    "print(X.shape, y.shape)"
   ]
  },
  {
   "cell_type": "markdown",
   "metadata": {},
   "source": [
    "## Use a grid search to tune the ML algorithm\n",
    "\n",
    "Once the best algorithm has been determined, it should be tuned for optimal performance with the data.\n",
    "\n",
    "This is done using a grid search. From the [scikit-learn documentation](http://scikit-learn.org/stable/modules/grid_search.html):\n",
    "\n",
    "> Parameters that are not directly learnt within estimators can be set by searching a parameter space for the best Cross-validation: evaluating estimator performance score... Any parameter provided when constructing an estimator may be optimized in this manner.\n",
    "\n",
    "Rather than do a compute-intensive search of the entire parameter space, a randomized search is done to find reasonably efficient parameters.\n",
    "\n",
    "This code was modified from the [scikit-learn sample code](http://scikit-learn.org/stable/auto_examples/model_selection/randomized_search.html#sphx-glr-auto-examples-model-selection-randomized-search-py)."
   ]
  },
  {
   "cell_type": "code",
   "execution_count": 8,
   "metadata": {},
   "outputs": [
    {
     "name": "stdout",
     "output_type": "stream",
     "text": [
      "RandomizedSearchCV took 44.59 seconds for 40 candidates parameter settings.\n",
      "Model with rank: 1\n",
      "Mean validation score: 0.980 (std: 0.005)\n",
      "Parameters: {'bootstrap': False, 'class_weight': None, 'criterion': 'entropy', 'max_depth': 3, 'max_features': 3, 'min_samples_leaf': 2, 'min_samples_split': 3, 'n_estimators': 58}\n",
      "\n",
      "Model with rank: 1\n",
      "Mean validation score: 0.980 (std: 0.005)\n",
      "Parameters: {'bootstrap': True, 'class_weight': None, 'criterion': 'gini', 'max_depth': 3, 'max_features': 3, 'min_samples_leaf': 4, 'min_samples_split': 2, 'n_estimators': 78}\n",
      "\n",
      "Model with rank: 3\n",
      "Mean validation score: 0.979 (std: 0.005)\n",
      "Parameters: {'bootstrap': False, 'class_weight': None, 'criterion': 'entropy', 'max_depth': 3, 'max_features': 6, 'min_samples_leaf': 4, 'min_samples_split': 6, 'n_estimators': 73}\n",
      "\n"
     ]
    }
   ],
   "source": [
    "#\tNow find optimum parameters for model using Grid Search\n",
    "\n",
    "from time import time\n",
    "from scipy.stats import randint as sp_randint\n",
    "\n",
    "from sklearn.model_selection import RandomizedSearchCV\n",
    "from sklearn.ensemble import RandomForestClassifier\n",
    "\n",
    "# build a classifier\n",
    "clf = RandomForestClassifier()\n",
    "\n",
    "# Utility function to report best scores\n",
    "def report(results, n_top=3):\n",
    "    for i in range(1, n_top + 1):\n",
    "        candidates = np.flatnonzero(results['rank_test_score'] == i)\n",
    "        for candidate in candidates:\n",
    "            print(\"Model with rank: {0}\".format(i))\n",
    "            print(\"Mean validation score: {0:.3f} (std: {1:.3f})\".format(\n",
    "                  results['mean_test_score'][candidate],\n",
    "                  results['std_test_score'][candidate]))\n",
    "            print(\"Parameters: {0}\".format(results['params'][candidate]))\n",
    "            print(\"\")\n",
    "            \n",
    "\n",
    "# specify parameters and distributions to sample from\n",
    "param_dist = {\"n_estimators\": sp_randint(20, 100),\n",
    "              \"max_depth\": [3, None],\n",
    "              \"max_features\": sp_randint(1,7),\n",
    "              \"min_samples_split\": sp_randint(2,7),\n",
    "              \"min_samples_leaf\": sp_randint(1, 7),\n",
    "              \"bootstrap\": [True, False],\n",
    "              \"class_weight\": ['auto', None],\n",
    "              \"criterion\": [\"gini\", \"entropy\"]}\n",
    "\n",
    "# run randomized search\n",
    "n_iter_search = 40\n",
    "random_search = RandomizedSearchCV(clf, param_distributions=param_dist,\n",
    "                                   n_iter=n_iter_search)\n",
    "\n",
    "start = time()\n",
    "random_search.fit(X, y)\n",
    "print(\"RandomizedSearchCV took %.2f seconds for %d candidates\"\n",
    "      \" parameter settings.\" % ((time() - start), n_iter_search))\n",
    "report(random_search.cv_results_)"
   ]
  },
  {
   "cell_type": "markdown",
   "metadata": {},
   "source": [
    "\n",
    "## Run the ML classifier with optimum parameters on the test data\n",
    "\n",
    "Based on the above, and ignoring default values, the optimum set of parameters would be something like the following:\n",
    "\n",
    "    'bootstrap':True, 'min_samples_leaf': 4, 'n_estimators': 55, 'min_samples_split': 4, 'criterion':'entropy', 'max_features': 3, 'max_depth: 3, 'class_weight': None\n",
    "\n",
    "The RandomForest classifier is now trained on the test data to produce the model."
   ]
  },
  {
   "cell_type": "code",
   "execution_count": 11,
   "metadata": {},
   "outputs": [
    {
     "data": {
      "text/plain": [
       "['/home/jovyan/work/vulnmine/vulnmine_data/vendor_classif_trained_Rdm_Forest.pkl.z']"
      ]
     },
     "execution_count": 11,
     "metadata": {},
     "output_type": "execute_result"
    }
   ],
   "source": [
    "clf = RandomForestClassifier(\n",
    "    bootstrap=True,\n",
    "    min_samples_leaf=4,\n",
    "    n_estimators=55,\n",
    "    min_samples_split=4,\n",
    "    criterion='entropy',\n",
    "    max_features=3,\n",
    "    max_depth=3,\n",
    "    class_weight=None\n",
    ")\n",
    "\n",
    "# Train model on original training data\n",
    "clf.fit(X, y)\n",
    "\n",
    "# save model for future use\n",
    "\n",
    "from sklearn.externals import joblib\n",
    "joblib.dump(clf, '/home/jovyan/work/vulnmine/vulnmine_data/vendor_classif_trained_Rdm_Forest.pkl.z') "
   ]
  },
  {
   "cell_type": "code",
   "execution_count": 12,
   "metadata": {},
   "outputs": [],
   "source": [
    "# Test loading\n",
    "\n",
    "clf = joblib.load('/home/jovyan/work/vulnmine/vulnmine_data/vendor_classif_trained_Rdm_Forest.pkl.z' )"
   ]
  },
  {
   "cell_type": "code",
   "execution_count": null,
   "metadata": {},
   "outputs": [],
   "source": []
  }
 ],
 "metadata": {
  "kernelspec": {
   "display_name": "Python 3",
   "language": "python",
   "name": "python3"
  },
  "language_info": {
   "codemirror_mode": {
    "name": "ipython",
    "version": 3
   },
   "file_extension": ".py",
   "mimetype": "text/x-python",
   "name": "python",
   "nbconvert_exporter": "python",
   "pygments_lexer": "ipython3",
   "version": "3.6.3"
  }
 },
 "nbformat": 4,
 "nbformat_minor": 2
}
